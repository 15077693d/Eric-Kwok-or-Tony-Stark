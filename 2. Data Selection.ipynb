{
 "cells": [
  {
   "cell_type": "markdown",
   "metadata": {
    "ExecuteTime": {
     "end_time": "2019-09-06T08:21:26.855505Z",
     "start_time": "2019-09-06T08:21:22.179339Z"
    }
   },
   "source": [
    "# Import Library"
   ]
  },
  {
   "cell_type": "code",
   "execution_count": 1,
   "metadata": {
    "ExecuteTime": {
     "end_time": "2019-09-11T08:04:01.364827Z",
     "start_time": "2019-09-11T08:03:44.418656Z"
    }
   },
   "outputs": [
    {
     "name": "stderr",
     "output_type": "stream",
     "text": [
      "Using TensorFlow backend.\n"
     ]
    }
   ],
   "source": [
    "%matplotlib inline\n",
    "import numpy as np\n",
    "import matplotlib.pyplot as plt\n",
    "import cv2\n",
    "from skimage import io\n",
    "import os\n",
    "from IPython.display import clear_output\n",
    "import time \n",
    "from itertools import islice\n",
    "from pathlib import Path\n",
    "from keras.preprocessing import image\n",
    "plt.rcParams['figure.figsize'] = (20, 5)"
   ]
  },
  {
   "cell_type": "markdown",
   "metadata": {},
   "source": [
    "# Custom Function"
   ]
  },
  {
   "cell_type": "code",
   "execution_count": 2,
   "metadata": {
    "ExecuteTime": {
     "end_time": "2019-09-11T08:04:01.395603Z",
     "start_time": "2019-09-11T08:04:01.390475Z"
    }
   },
   "outputs": [],
   "source": [
    "def chunk(it, size):\n",
    "    it = iter(it)\n",
    "    return iter(lambda: tuple(islice(it, size)),())"
   ]
  },
  {
   "cell_type": "code",
   "execution_count": 3,
   "metadata": {
    "ExecuteTime": {
     "end_time": "2019-09-11T08:04:01.475282Z",
     "start_time": "2019-09-11T08:04:01.430829Z"
    }
   },
   "outputs": [],
   "source": [
    "def Delete_Picture(selection,pic_path):\n",
    "    for i in range(len(selection)):\n",
    "        if selection[i]=='0':\n",
    "            print(f'Delete Pic: {pic_path[i]}')\n",
    "            os.remove(pic_path[i])\n",
    "            amount_dict[int(pic_path[i][5])]-=1\n",
    "            delete_dict[int(pic_path[i][5])]+=1\n",
    "            "
   ]
  },
  {
   "cell_type": "markdown",
   "metadata": {},
   "source": [
    "# Import Data"
   ]
  },
  {
   "cell_type": "code",
   "execution_count": 5,
   "metadata": {
    "ExecuteTime": {
     "end_time": "2019-09-11T08:05:40.599169Z",
     "start_time": "2019-09-11T08:05:08.615384Z"
    }
   },
   "outputs": [
    {
     "name": "stdout",
     "output_type": "stream",
     "text": [
      "In label 0:  133\n",
      "In label 1:  168\n",
      "In label 2:  134\n",
      "In label 3:  121\n",
      "In label 4:  106\n",
      "In label 5:  163\n",
      "In label 6:  117\n",
      "In label 7:  177\n"
     ]
    }
   ],
   "source": [
    "pic_array_list=[]\n",
    "pic_path_list=[]\n",
    "pic_amount_list=[]\n",
    "for i in range(8):\n",
    "    pic_amount=len(sorted(Path(f'data/{i}').glob('*.png')))\n",
    "    pic_amount_list.append(pic_amount)\n",
    "    print(f'In label {i}: ',pic_amount)\n",
    "\n",
    "for i in range(8):\n",
    "    for pic_path in sorted(Path(f'data/{i+1}').glob('*.png')):\n",
    "        pic_path_list.append(str(pic_path))\n",
    "        try:\n",
    "            image_array=np.array(image.load_img(pic_path,target_size=(150,150)),dtype='uint8')\n",
    "        except:\n",
    "            image_array=np.zeros((150,150,3),dtype='uint8')\n",
    "        pic_array_list.append(image_array)"
   ]
  },
  {
   "cell_type": "code",
   "execution_count": 6,
   "metadata": {
    "ExecuteTime": {
     "end_time": "2019-09-11T08:07:35.476771Z",
     "start_time": "2019-09-11T08:07:35.470089Z"
    }
   },
   "outputs": [],
   "source": [
    "chunk_num=10\n",
    "pic_array_chunk_list=list(chunk(pic_array_list,chunk_num))\n",
    "pic_path_chunk_list=list(chunk(pic_path_list,chunk_num))\n",
    "chunk_list=list(zip(pic_array_chunk_list,pic_path_chunk_list))"
   ]
  },
  {
   "cell_type": "code",
   "execution_count": 9,
   "metadata": {
    "ExecuteTime": {
     "end_time": "2019-09-11T08:11:21.875835Z",
     "start_time": "2019-09-11T08:11:21.870903Z"
    }
   },
   "outputs": [],
   "source": [
    "amount_dict={i:j for i,j in enumerate(pic_amount_list)}\n",
    "delete_dict={i:0 for i in range(len(pic_amount_list))}"
   ]
  },
  {
   "cell_type": "markdown",
   "metadata": {},
   "source": [
    "# Select Data"
   ]
  },
  {
   "cell_type": "code",
   "execution_count": null,
   "metadata": {
    "ExecuteTime": {
     "start_time": "2019-09-11T08:12:54.938Z"
    }
   },
   "outputs": [],
   "source": [
    "plt.rcParams['figure.figsize'] = (20, 5)\n",
    "for chunk_set in chunk_list:\n",
    "        clear_output(wait=True)\n",
    "        pic_chunk=chunk_set[0]\n",
    "        pic_path=chunk_set[1]\n",
    "        print(f'Total Pic:\\n\\n{amount_dict}\\n\\nDelete Pic:\\n\\n{delete_dict}')\n",
    "        try:\n",
    "            combine_pic=np.concatenate(pic_chunk,axis=1)\n",
    "        except:\n",
    "            print([array.shape for array in pic_chunk])\n",
    "            checker=pic_chunk\n",
    "            break\n",
    "        plt.imshow(combine_pic)\n",
    "        plt.show()\n",
    "        while True:\n",
    "            selection=input(\"1 or 0(1:Useful,0:Useful): \")\n",
    "            if len(selection)==chunk_num:\n",
    "                Delete_Picture(selection,pic_path)\n",
    "                time.sleep(0.1)\n",
    "                break\n",
    "        break\n",
    "        "
   ]
  },
  {
   "cell_type": "code",
   "execution_count": null,
   "metadata": {},
   "outputs": [],
   "source": []
  }
 ],
 "metadata": {
  "kernelspec": {
   "display_name": "Python 3",
   "language": "python",
   "name": "python3"
  },
  "language_info": {
   "codemirror_mode": {
    "name": "ipython",
    "version": 3
   },
   "file_extension": ".py",
   "mimetype": "text/x-python",
   "name": "python",
   "nbconvert_exporter": "python",
   "pygments_lexer": "ipython3",
   "version": "3.7.3"
  },
  "varInspector": {
   "cols": {
    "lenName": "30",
    "lenType": 16,
    "lenVar": "20"
   },
   "kernels_config": {
    "python": {
     "delete_cmd_postfix": "",
     "delete_cmd_prefix": "del ",
     "library": "var_list.py",
     "varRefreshCmd": "print(var_dic_list())"
    },
    "r": {
     "delete_cmd_postfix": ") ",
     "delete_cmd_prefix": "rm(",
     "library": "var_list.r",
     "varRefreshCmd": "cat(var_dic_list()) "
    }
   },
   "position": {
    "height": "144px",
    "left": "964px",
    "right": "20px",
    "top": "89px",
    "width": "350px"
   },
   "types_to_exclude": [
    "module",
    "function",
    "builtin_function_or_method",
    "instance",
    "_Feature"
   ],
   "window_display": true
  }
 },
 "nbformat": 4,
 "nbformat_minor": 2
}
