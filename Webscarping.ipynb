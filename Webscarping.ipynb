{
 "cells": [
  {
   "cell_type": "markdown",
   "metadata": {
    "heading_collapsed": true
   },
   "source": [
    "# Import Library"
   ]
  },
  {
   "cell_type": "code",
   "execution_count": 4,
   "metadata": {
    "ExecuteTime": {
     "end_time": "2019-09-08T07:49:48.742507Z",
     "start_time": "2019-09-08T07:49:32.173199Z"
    },
    "hidden": true
   },
   "outputs": [
    {
     "name": "stderr",
     "output_type": "stream",
     "text": [
      "Using TensorFlow backend.\n"
     ]
    }
   ],
   "source": [
    "import requests\n",
    "from bs4 import BeautifulSoup\n",
    "from selenium import webdriver\n",
    "import pandas as pd\n",
    "from keras.preprocessing import image\n",
    "\n",
    "import shutil\n",
    "import numpy as np\n",
    "import os\n",
    "import json\n",
    "import urllib.request\n",
    "from skimage import io\n",
    "import matplotlib.pyplot as plt\n",
    "import cv2\n",
    "from IPython.display import clear_output\n",
    "import urllib.request\n",
    "%matplotlib inline"
   ]
  },
  {
   "cell_type": "markdown",
   "metadata": {
    "heading_collapsed": true
   },
   "source": [
    "# Custom Function"
   ]
  },
  {
   "cell_type": "code",
   "execution_count": 3,
   "metadata": {
    "ExecuteTime": {
     "end_time": "2019-09-07T16:09:29.222067Z",
     "start_time": "2019-09-07T16:09:29.207285Z"
    },
    "hidden": true
   },
   "outputs": [],
   "source": [
    "def Pics_json(url,amount):\n",
    "    total_download=0\n",
    "    # create function\n",
    "    driver = webdriver.Chrome('./chromedriver')\n",
    "    driver.get(url)\n",
    "    count=0\n",
    "    while True:\n",
    "        html=driver.page_source\n",
    "        # create soup object\n",
    "        soup=BeautifulSoup(html,\"html.parser\")\n",
    "        pics_json=soup.find_all(class_=\"rg_meta\")\n",
    "        if len(pics_json)>=amount or count>10:\n",
    "            driver.close()\n",
    "            return pics_json\n",
    "        else:\n",
    "            try:\n",
    "                next_page=driver.find_element_by_id('smbw')\n",
    "                next_page.click()\n",
    "                driver.execute_script(\"window.scrollTo(0,100000)\")\n",
    "            except:\n",
    "                driver.execute_script(\"window.scrollTo(0,100000)\")\n",
    "        count+=1\n",
    "    "
   ]
  },
  {
   "cell_type": "code",
   "execution_count": 296,
   "metadata": {
    "ExecuteTime": {
     "end_time": "2019-09-08T10:08:30.825952Z",
     "start_time": "2019-09-08T10:08:30.819045Z"
    },
    "hidden": true
   },
   "outputs": [],
   "source": [
    "def Name_file(num):\n",
    "    if num<10:\n",
    "        return(f'000{num}')\n",
    "    elif num<100:\n",
    "        return(f'00{num}')\n",
    "    elif num<1000:\n",
    "        return(f\"0{num}\")"
   ]
  },
  {
   "cell_type": "markdown",
   "metadata": {
    "heading_collapsed": true
   },
   "source": [
    "# Website List"
   ]
  },
  {
   "cell_type": "code",
   "execution_count": 5,
   "metadata": {
    "ExecuteTime": {
     "end_time": "2019-09-07T16:09:29.332420Z",
     "start_time": "2019-09-07T16:09:29.325054Z"
    },
    "hidden": true
   },
   "outputs": [],
   "source": [
    "url_1=\"https://www.google.com/search?q=Tony+Stark&sxsrf=ACYBGNRQHTLg2Pg3MdunVDwyesPfYx2FpA:1567854095669&source=lnms&tbm=isch&sa=X&ved=0ahUKEwii_LnTx77kAhWEBIgKHaxjCQgQ_AUIEigB&biw=967&bih=618\"\n",
    "url_2=\"https://www.google.com/search?biw=967&bih=618&tbm=isch&sxsrf=ACYBGNS7UdAqWs6cf3P9LV_PT0rBzVWKiA%3A1567854114381&sa=1&ei=Io5zXbXsFoLZ-QbUrqCoAQ&q=%E9%83%AD%E5%81%89%E4%BA%AE&oq=%E9%83%AD%E5%81%89%E4%BA%AE&gs_l=img.3..0l2j0i24l8.7634.9890..10149...0.0..0.62.119.2......0....2j1..gws-wiz-img.1R7shjFd7wo&ved=0ahUKEwi1hbDcx77kAhWCbN4KHVQXCBUQ4dUDCAY&uact=5\"\n",
    "url_3=\"https://www.google.com/search?biw=967&bih=618&tbm=isch&sxsrf=ACYBGNSzZ_fsuYPKqfI_Bs63wqtimOxYNg%3A1567854152871&sa=1&ei=SI5zXbTnNIvXhwOGpKs4&q=Chris+Hemsworth&oq=Chris+Hemsworth&gs_l=img.3..0l10.6257.9648..10228...0.0..0.84.209.3......0....2j1..gws-wiz-img.......0i19j0i10i19.N65anUq3L7s&ved=0ahUKEwi0q93ux77kAhWL62EKHQbSCgcQ4dUDCAY&uact=5\"\n",
    "url_4=\"https://www.google.com/search?biw=967&bih=618&tbm=isch&sxsrf=ACYBGNT0CkY9bci_hypHkrwqwggbVzZh6A%3A1567854164074&sa=1&ei=VI5zXZmHBJK6wAPj7JbIBQ&q=%E5%BE%90%E9%8C%A6%E6%B1%9F&oq=%E5%BE%90%E9%8C%A6%E6%B1%9F&gs_l=img.3..35i39j0l9.22257.22257..22715...0.0..0.65.65.1......0....2j1..gws-wiz-img.iKuTXUHb7IY&ved=0ahUKEwiZgYn0x77kAhUSHXAKHWO2BVkQ4dUDCAY&uact=5\"\n",
    "url_5=\"https://www.google.com/search?biw=967&bih=618&tbm=isch&sxsrf=ACYBGNSbYjm_sGFQnyW6OEp47aCjXFXHuQ%3A1567854187756&sa=1&ei=a45zXb3dLYui-QaX2KcY&q=Brad+Pitt&oq=Brad+Pitt&gs_l=img.3..0l10.10051.10051..10481...0.0..0.78.78.1......0....2j1..gws-wiz-img.lTeM9QzcUWI&ved=0ahUKEwj9vq7_x77kAhULUd4KHRfsCQMQ4dUDCAY&uact=5\"\n",
    "url_6=\"https://www.google.com/search?biw=967&bih=618&tbm=isch&sxsrf=ACYBGNS-WoOU79Kk6tS0_r3fxKqqL_WrLA%3A1567854199295&sa=1&ei=d45zXcrQEYeHoATMjZewAQ&q=%E9%99%B3%E5%A5%95%E8%BF%85&oq=%E9%99%B3%E5%A5%95%E8%BF%85&gs_l=img.3..35i39j0l9.9296.10296..10495...0.0..0.81.139.2......0....2j1..gws-wiz-img.v418hifdXS0&ved=0ahUKEwiK6O6EyL7kAhWHA4gKHczGBRYQ4dUDCAY&uact=5\"\n",
    "url_7=\"https://www.google.com/search?biw=967&bih=618&tbm=isch&sxsrf=ACYBGNTX1wzjJEMYO7NQEvPJ1X3rQXOMyQ%3A1567854210651&sa=1&ei=go5zXcyqJ9aqoASJ-ILoDA&q=%E6%9E%97%E5%AD%90%E7%90%A6&oq=%E6%9E%97%E5%AD%90%E7%90%A6&gs_l=img.3..35i39j0i24l3.14438.14438..14656...0.0..0.84.84.1......0....2j1..gws-wiz-img.MrACr_4eKi4&ved=0ahUKEwjM86OKyL7kAhVWFYgKHQm8AM0Q4dUDCAY&uact=5\"\n",
    "url_8=\"https://www.google.com/search?biw=782&bih=667&tbm=isch&sxsrf=ACYBGNS8-FAj8SqyBVP8Mh6G3fhi7x_aAw%3A1567856765421&sa=1&ei=fZhzXdqcGcfrwQOxgZegBg&q=%E9%9B%BB%E5%BD%B1%E6%98%8E%E6%98%9F&oq=%E9%9B%BB%E5%BD%B1&gs_l=img.3.0.35i39j0l9.7402.10754..12076...0.0..0.91.682.11......0....1..gws-wiz-img.....0..0i5i30j0i24.OOQkzpYixP0\""
   ]
  },
  {
   "cell_type": "markdown",
   "metadata": {
    "heading_collapsed": true
   },
   "source": [
    "# Download Picture"
   ]
  },
  {
   "cell_type": "code",
   "execution_count": 6,
   "metadata": {
    "ExecuteTime": {
     "end_time": "2019-09-07T16:09:29.415444Z",
     "start_time": "2019-09-07T16:09:29.411392Z"
    },
    "hidden": true
   },
   "outputs": [],
   "source": [
    "urls=[url_1,url_2,url_3,url_4,url_5,url_6,url_7,url_8]\n",
    "pics_jsons=[]"
   ]
  },
  {
   "cell_type": "code",
   "execution_count": 7,
   "metadata": {
    "ExecuteTime": {
     "end_time": "2019-09-07T16:09:38.365412Z",
     "start_time": "2019-09-07T16:09:29.459410Z"
    },
    "hidden": true
   },
   "outputs": [],
   "source": [
    "amount=300\n",
    "for i in range(len(urls)):\n",
    "    pics_json=Pics_json(urls[i],amount)\n",
    "    pics_jsons.append(pics_json)"
   ]
  },
  {
   "cell_type": "code",
   "execution_count": 8,
   "metadata": {
    "ExecuteTime": {
     "end_time": "2019-09-07T16:28:17.586798Z",
     "start_time": "2019-09-07T16:09:38.683313Z"
    },
    "hidden": true
   },
   "outputs": [],
   "source": [
    "for i in range(len(pics_jsons)):\n",
    "    download=0\n",
    "    for j in range(len(pics_jsons[i])):\n",
    "        url=json.loads(pics_jsons[i][j].text)['ou']\n",
    "        path=f'data/{i+1}/'\n",
    "        try:\n",
    "            urllib.request.urlretrieve(url,path+f'{i+1}_{Name_file(download)}.png')\n",
    "            download+=1\n",
    "        except:\n",
    "            pass"
   ]
  },
  {
   "cell_type": "markdown",
   "metadata": {
    "heading_collapsed": true
   },
   "source": [
    "# Download from my ig"
   ]
  },
  {
   "cell_type": "code",
   "execution_count": 282,
   "metadata": {
    "ExecuteTime": {
     "end_time": "2019-09-08T10:03:24.047165Z",
     "start_time": "2019-09-08T10:03:24.042156Z"
    },
    "hidden": true
   },
   "outputs": [],
   "source": [
    "url_oscar='https://www.instagram.com/0scaryiu/'"
   ]
  },
  {
   "cell_type": "code",
   "execution_count": 283,
   "metadata": {
    "ExecuteTime": {
     "end_time": "2019-09-08T10:03:29.603901Z",
     "start_time": "2019-09-08T10:03:24.352725Z"
    },
    "hidden": true
   },
   "outputs": [],
   "source": [
    "driver=webdriver.Chrome('./chromedriver')\n",
    "driver.get(url_oscar)"
   ]
  },
  {
   "cell_type": "code",
   "execution_count": 284,
   "metadata": {
    "ExecuteTime": {
     "end_time": "2019-09-08T10:03:46.037202Z",
     "start_time": "2019-09-08T10:03:29.840771Z"
    },
    "hidden": true
   },
   "outputs": [],
   "source": [
    "imgs=[]\n",
    "while True:\n",
    "    # posts and soup is same order\n",
    "    html=driver.page_source\n",
    "    soup=BeautifulSoup(html,\"html.parser\")\n",
    "    try:\n",
    "        imgs+=[item.img['src'] for item in soup.find_all(class_=\"KL4Bh\")]\n",
    "        imgs=list(set(imgs))\n",
    "    except:\n",
    "        pass\n",
    "    driver.execute_script(\"window.scrollTo(0,1000000000000)\")\n",
    "    if len(imgs)>280:\n",
    "        break"
   ]
  },
  {
   "cell_type": "code",
   "execution_count": 312,
   "metadata": {
    "ExecuteTime": {
     "end_time": "2019-09-08T10:18:26.568038Z",
     "start_time": "2019-09-08T10:17:25.613515Z"
    },
    "hidden": true
   },
   "outputs": [],
   "source": [
    "for i in range(60,len(imgs)):\n",
    "    while True:\n",
    "        urllib.request.urlretrieve(imgs[i],f'./data/9/9_{Name_file(i)}.png')\n",
    "        if os.path.isfile(f'./data/9/9_{Name_file(i)}.png'):\n",
    "            break"
   ]
  },
  {
   "cell_type": "code",
   "execution_count": null,
   "metadata": {
    "hidden": true
   },
   "outputs": [],
   "source": []
  }
 ],
 "metadata": {
  "kernelspec": {
   "display_name": "Python 3",
   "language": "python",
   "name": "python3"
  },
  "language_info": {
   "codemirror_mode": {
    "name": "ipython",
    "version": 3
   },
   "file_extension": ".py",
   "mimetype": "text/x-python",
   "name": "python",
   "nbconvert_exporter": "python",
   "pygments_lexer": "ipython3",
   "version": "3.7.3"
  },
  "varInspector": {
   "cols": {
    "lenName": "30",
    "lenType": 16,
    "lenVar": "20"
   },
   "kernels_config": {
    "python": {
     "delete_cmd_postfix": "",
     "delete_cmd_prefix": "del ",
     "library": "var_list.py",
     "varRefreshCmd": "print(var_dic_list())"
    },
    "r": {
     "delete_cmd_postfix": ") ",
     "delete_cmd_prefix": "rm(",
     "library": "var_list.r",
     "varRefreshCmd": "cat(var_dic_list()) "
    }
   },
   "position": {
    "height": "144px",
    "left": "979px",
    "right": "20px",
    "top": "108px",
    "width": "350px"
   },
   "types_to_exclude": [
    "module",
    "function",
    "builtin_function_or_method",
    "instance",
    "_Feature"
   ],
   "window_display": true
  }
 },
 "nbformat": 4,
 "nbformat_minor": 2
}
