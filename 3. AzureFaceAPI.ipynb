{
 "cells": [
  {
   "cell_type": "markdown",
   "metadata": {
    "ExecuteTime": {
     "end_time": "2019-09-04T03:54:50.473639Z",
     "start_time": "2019-09-04T03:54:49.630948Z"
    },
    "heading_collapsed": true
   },
   "source": [
    "# Import Library"
   ]
  },
  {
   "cell_type": "code",
   "execution_count": 2,
   "metadata": {
    "ExecuteTime": {
     "end_time": "2019-09-11T08:19:20.458475Z",
     "start_time": "2019-09-11T08:19:15.502612Z"
    },
    "hidden": true
   },
   "outputs": [],
   "source": [
    "%matplotlib inline\n",
    "import numpy as np\n",
    "import matplotlib.pyplot as plt\n",
    "from skimage import io\n",
    "import cv2\n",
    "import os\n",
    "import cognitive_face as CF\n",
    "import requests\n",
    "from io import BytesIO\n",
    "from pathlib import Path\n",
    "from IPython.display import clear_output\n",
    "import time "
   ]
  },
  {
   "cell_type": "markdown",
   "metadata": {},
   "source": [
    "# Custom Function"
   ]
  },
  {
   "cell_type": "code",
   "execution_count": 1,
   "metadata": {
    "ExecuteTime": {
     "end_time": "2019-09-11T08:19:13.283290Z",
     "start_time": "2019-09-11T08:19:13.278009Z"
    }
   },
   "outputs": [],
   "source": [
    "def file_name(num):\n",
    "    if int(num)<10:\n",
    "        return f'000{num}'\n",
    "    elif int(num)<100:\n",
    "        return f'00{num}'\n",
    "    elif int(num)<1000:\n",
    "        return f'0{num}'"
   ]
  },
  {
   "cell_type": "code",
   "execution_count": null,
   "metadata": {
    "ExecuteTime": {
     "end_time": "2019-09-06T06:42:16.631034Z",
     "start_time": "2019-09-06T06:42:16.624478Z"
    },
    "hide_input": true
   },
   "outputs": [],
   "source": [
    "def label_faces_list(label_dict):\n",
    "    label_faces_list=[]\n",
    "    for path,faces_locations in label_dict.items():\n",
    "             label_faces_list+=faces_list(path,faces_locations)\n",
    "    return label_faces_list"
   ]
  },
  {
   "cell_type": "markdown",
   "metadata": {},
   "source": [
    "# Import photo "
   ]
  },
  {
   "cell_type": "code",
   "execution_count": 4,
   "metadata": {
    "ExecuteTime": {
     "end_time": "2019-09-11T08:19:31.720925Z",
     "start_time": "2019-09-11T08:19:31.674658Z"
    }
   },
   "outputs": [
    {
     "name": "stdout",
     "output_type": "stream",
     "text": [
      "img in 0:  133\n",
      "img in 1:  168\n",
      "img in 2:  134\n",
      "img in 3:  121\n",
      "img in 4:  106\n",
      "img in 5:  163\n",
      "img in 6:  117\n",
      "img in 7:  177\n"
     ]
    }
   ],
   "source": [
    "img_path_list=[]\n",
    "for i in range(8):\n",
    "    print(f\"img in {i}: \" ,len(list(Path(f'./data/{i}').glob('*.png'))))\n",
    "    for img_path in sorted(Path(f'./data/{i}').glob('*.png')):\n",
    "        img_path_list.append(str(img_path))"
   ]
  },
  {
   "cell_type": "markdown",
   "metadata": {},
   "source": [
    "# Face API"
   ]
  },
  {
   "cell_type": "code",
   "execution_count": 5,
   "metadata": {
    "ExecuteTime": {
     "end_time": "2019-09-11T08:19:43.637029Z",
     "start_time": "2019-09-11T08:19:43.632700Z"
    }
   },
   "outputs": [],
   "source": [
    "#create Face API resource from Microsoft Azure dashboard\n",
    "# get the keys of API from dashboard\n",
    "faceURI = \"https://xxxxx.cognitiveservices.azure.com/face/v1.0\"\n",
    "faceKey = \"24faabxxxxxxxxxxxxxxxx\"\n",
    "\n",
    "# Set URI and Key\n",
    "CF.BaseUrl.set(faceURI)\n",
    "CF.Key.set(faceKey)"
   ]
  },
  {
   "cell_type": "code",
   "execution_count": 6,
   "metadata": {
    "ExecuteTime": {
     "end_time": "2019-09-11T08:19:45.957890Z",
     "start_time": "2019-09-11T08:19:45.951566Z"
    }
   },
   "outputs": [],
   "source": [
    "face_location_list=[]"
   ]
  },
  {
   "cell_type": "code",
   "execution_count": null,
   "metadata": {
    "ExecuteTime": {
     "end_time": "2019-09-11T08:21:33.750918Z",
     "start_time": "2019-09-11T08:21:22.210263Z"
    },
    "scrolled": true
   },
   "outputs": [],
   "source": [
    "# Detect face\n",
    "break_=0\n",
    "for i in range(len(face_location_list),len(img_path_list)):\n",
    "    error=0\n",
    "    if break_:\n",
    "        break\n",
    "    while True:\n",
    "        try:\n",
    "            facelocations=CF.face.detect(img_path_list[i])\n",
    "            face_location_list.append(facelocations)\n",
    "            print(f'Now detected amount: {len(face_location_list)}\\nRemain amount: {len(img_path_list)-len(face_location_list)}')\n",
    "            break\n",
    "        except:\n",
    "            pass\n",
    "            print(f\"Try Again!{error}\")\n",
    "            error+=1\n",
    "            if error>20:\n",
    "                x=input('What you want to do?(0:break 1:append(\"None\")): ')\n",
    "                if x:\n",
    "                    face_location_list.append('None')\n",
    "                    break\n",
    "                else:\n",
    "                    break_=1"
   ]
  },
  {
   "cell_type": "markdown",
   "metadata": {},
   "source": [
    "# Output Face"
   ]
  },
  {
   "cell_type": "code",
   "execution_count": null,
   "metadata": {
    "hide_input": false
   },
   "outputs": [],
   "source": [
    "# make directory for face\n",
    "os.makedirs('./face')\n",
    "for i in range(8):\n",
    "    os.makedirs(f'./face/{i}')"
   ]
  },
  {
   "cell_type": "code",
   "execution_count": 9,
   "metadata": {
    "ExecuteTime": {
     "end_time": "2019-09-11T08:22:20.166435Z",
     "start_time": "2019-09-11T08:22:20.146839Z"
    }
   },
   "outputs": [],
   "source": [
    "path_location_list=list(zip(img_path_list,face_location_list))"
   ]
  },
  {
   "cell_type": "code",
   "execution_count": 10,
   "metadata": {
    "ExecuteTime": {
     "end_time": "2019-09-11T08:22:43.342625Z",
     "start_time": "2019-09-11T08:22:43.337362Z"
    }
   },
   "outputs": [],
   "source": [
    "count_dict={i:0 for i in range(8)}"
   ]
  },
  {
   "cell_type": "code",
   "execution_count": 15,
   "metadata": {
    "ExecuteTime": {
     "end_time": "2019-09-11T08:25:01.540807Z",
     "start_time": "2019-09-11T08:25:01.189238Z"
    },
    "hide_input": false
   },
   "outputs": [
    {
     "name": "stdout",
     "output_type": "stream",
     "text": [
      "data/0/1_0000.png\n",
      "[{'faceId': 'e34bdbe4-1788-4c62-b745-9ad818fc94c8', 'faceRectangle': {'top': 80, 'left': 63, 'width': 67, 'height': 67}}]\n",
      "data/0/1_0001.png\n",
      "[{'faceId': '7d7f5ab2-9574-40da-b6ca-9db47bf28189', 'faceRectangle': {'top': 79, 'left': 123, 'width': 188, 'height': 188}}]\n",
      "data/0/1_0004.png\n",
      "[{'faceId': 'ca9ca3f7-fa44-484c-b66d-c2f600b127db', 'faceRectangle': {'top': 132, 'left': 325, 'width': 180, 'height': 180}}]\n",
      "data/0/1_0005.png\n",
      "[{'faceId': '06c4fbc1-23d5-4ef4-a826-4ee13bc4bcbe', 'faceRectangle': {'top': 221, 'left': 505, 'width': 412, 'height': 412}}]\n",
      "data/0/1_0006.png\n",
      "[{'faceId': '2d4b3db5-5989-4e99-aa8a-4960ef5f5dbc', 'faceRectangle': {'top': 116, 'left': 358, 'width': 266, 'height': 266}}]\n",
      "data/0/1_0007.png\n",
      "[{'faceId': '22f326bb-7e06-4574-8f8b-a40b94697ab0', 'faceRectangle': {'top': 158, 'left': 748, 'width': 374, 'height': 374}}]\n",
      "data/0/1_0008.png\n",
      "[{'faceId': '384a77c0-55e0-48a8-b41e-7a09f952dd42', 'faceRectangle': {'top': 103, 'left': 275, 'width': 101, 'height': 101}}]\n",
      "data/0/1_0009.png\n",
      "[{'faceId': '7c40b542-fcf4-42b1-8142-1f25369f194b', 'faceRectangle': {'top': 142, 'left': 568, 'width': 200, 'height': 200}}]\n",
      "data/0/1_0015.png\n",
      "[{'faceId': '8c22e15c-f8ec-4805-a8c4-f75b8f140faa', 'faceRectangle': {'top': 158, 'left': 327, 'width': 367, 'height': 367}}]\n",
      "data/0/1_0017.png\n",
      "[{'faceId': '47f6d374-c8a0-4b69-aa1c-38f471ff0fed', 'faceRectangle': {'top': 75, 'left': 330, 'width': 168, 'height': 168}}]\n",
      "data/0/1_0018.png\n",
      "[{'faceId': '12543373-3bbb-4b5b-8c0c-5452e408292b', 'faceRectangle': {'top': 198, 'left': 478, 'width': 221, 'height': 221}}]\n",
      "data/0/1_0019.png\n",
      "[{'faceId': 'b2852731-22a3-4e62-ac04-8eab49727693', 'faceRectangle': {'top': 113, 'left': 102, 'width': 187, 'height': 187}}]\n",
      "data/0/1_0020.png\n",
      "[{'faceId': '08465484-46a0-4918-aa05-e93e5119d3c5', 'faceRectangle': {'top': 123, 'left': 309, 'width': 266, 'height': 266}}]\n",
      "data/0/1_0021.png\n",
      "[{'faceId': 'b78525ed-db05-496f-a348-2f53bee3d73d', 'faceRectangle': {'top': 327, 'left': 877, 'width': 327, 'height': 327}}]\n",
      "data/0/1_0022.png\n",
      "[{'faceId': '2a55b279-ca06-462b-8155-8eb6f1175136', 'faceRectangle': {'top': 107, 'left': 263, 'width': 105, 'height': 105}}]\n",
      "data/0/1_0023.png\n",
      "[{'faceId': '7703846c-2304-43b7-b307-aa5c4bcfcbbb', 'faceRectangle': {'top': 147, 'left': 482, 'width': 252, 'height': 252}}]\n",
      "data/0/1_0026.png\n",
      "[{'faceId': 'bbd265b0-96e3-49c0-b397-4292ac96a185', 'faceRectangle': {'top': 168, 'left': 344, 'width': 186, 'height': 186}}]\n",
      "data/0/1_0027.png\n",
      "[{'faceId': '4d962f99-2444-4a41-a6ae-9a0744cd8606', 'faceRectangle': {'top': 110, 'left': 137, 'width': 115, 'height': 115}}]\n",
      "data/0/1_0028.png\n",
      "[{'faceId': '35cf88e5-3848-4418-b1c9-92e8e2c2c2de', 'faceRectangle': {'top': 67, 'left': 261, 'width': 232, 'height': 232}}]\n",
      "data/0/1_0029.png\n",
      "[{'faceId': '2ed5f7db-08e4-4060-bdee-02e06eee2564', 'faceRectangle': {'top': 238, 'left': 456, 'width': 192, 'height': 192}}]\n"
     ]
    }
   ],
   "source": [
    "## select and  download face\n",
    "x='1'\n",
    "for i in range(0,len(path_location_list)):\n",
    "    locations=path_location_list[i][1]\n",
    "    path=path_location_list[i][0]\n",
    "    print(path)\n",
    "    print(locations)\n",
    "    if locations=='None' or locations==[]:\n",
    "        continue\n",
    "        \n",
    "    for i in range(len(locations)):\n",
    "        row1=locations[i]['faceRectangle']['top']\n",
    "        row2=locations[i]['faceRectangle']['top']+locations[i]['faceRectangle']['height']\n",
    "        col1=locations[i]['faceRectangle']['left']\n",
    "        col2=locations[i]['faceRectangle']['left']+locations[i]['faceRectangle']['width']\n",
    "        while True:\n",
    "            try:\n",
    "                img_array=cv2.imread(path)\n",
    "                face_array=img_array[row1:row2,col1:col2]\n",
    "            except:\n",
    "                ans=input('Type something after edit image: ')\n",
    "                img_array=cv2.imread(path)\n",
    "                face_array=img_array[row1:row2,col1:col2]\n",
    "            break\n",
    "            \n",
    "        if len(locations)>1:\n",
    "            plt.imshow(face_array)\n",
    "            plt.show()\n",
    "            print(path)\n",
    "            x=input('1 or 0(keep or delete): ')\n",
    "        if x=='1'or len(locations)==1:\n",
    "            label=int(path[5])\n",
    "            new_path=f'face/{label}/{label}_{file_name(count_dict[label])}.png'\n",
    "            cv2.imwrite(new_path,face_array)\n",
    "            count_dict[label]+=1\n",
    "    if i ==20:\n",
    "        break\n",
    "#     clear_output(wait=True)\n"
   ]
  }
 ],
 "metadata": {
  "kernelspec": {
   "display_name": "Python 3",
   "language": "python",
   "name": "python3"
  },
  "language_info": {
   "codemirror_mode": {
    "name": "ipython",
    "version": 3
   },
   "file_extension": ".py",
   "mimetype": "text/x-python",
   "name": "python",
   "nbconvert_exporter": "python",
   "pygments_lexer": "ipython3",
   "version": "3.7.3"
  },
  "varInspector": {
   "cols": {
    "lenName": "30",
    "lenType": 16,
    "lenVar": "20"
   },
   "kernels_config": {
    "python": {
     "delete_cmd_postfix": "",
     "delete_cmd_prefix": "del ",
     "library": "var_list.py",
     "varRefreshCmd": "print(var_dic_list())"
    },
    "r": {
     "delete_cmd_postfix": ") ",
     "delete_cmd_prefix": "rm(",
     "library": "var_list.r",
     "varRefreshCmd": "cat(var_dic_list()) "
    }
   },
   "position": {
    "height": "144px",
    "left": "744px",
    "right": "20px",
    "top": "725px",
    "width": "350px"
   },
   "types_to_exclude": [
    "module",
    "function",
    "builtin_function_or_method",
    "instance",
    "_Feature"
   ],
   "window_display": true
  }
 },
 "nbformat": 4,
 "nbformat_minor": 2
}
